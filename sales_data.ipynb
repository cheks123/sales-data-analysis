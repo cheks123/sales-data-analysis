{
 "cells": [
  {
   "cell_type": "markdown",
   "id": "5bf1ec52",
   "metadata": {},
   "source": [
    "# Company's Sales Data Analysis for 2019"
   ]
  },
  {
   "cell_type": "code",
   "execution_count": 17,
   "id": "dea158a9",
   "metadata": {},
   "outputs": [],
   "source": [
    "import pandas as pd\n",
    "import matplotlib.pyplot as plt\n",
    "import seaborn as sns"
   ]
  },
  {
   "cell_type": "markdown",
   "id": "f5361c96",
   "metadata": {},
   "source": [
    "## Loading the Monthly Sales Data"
   ]
  },
  {
   "cell_type": "code",
   "execution_count": 18,
   "id": "fa090983",
   "metadata": {},
   "outputs": [],
   "source": [
    "jan_df = pd.read_csv(r'sales_data/Sales_January_2019.csv')\n",
    "feb_df = pd.read_csv(r'sales_data/Sales_February_2019.csv')\n",
    "mar_df = pd.read_csv(r'sales_data/Sales_March_2019.csv')\n",
    "apr_df = pd.read_csv(r'sales_data/Sales_April_2019.csv')\n",
    "may_df = pd.read_csv(r'sales_data/Sales_May_2019.csv')\n",
    "jun_df = pd.read_csv(r'sales_data/Sales_June_2019.csv')\n",
    "jul_df = pd.read_csv(r'sales_data/Sales_July_2019.csv')\n",
    "aug_df = pd.read_csv(r'sales_data/Sales_August_2019.csv')\n",
    "sep_df = pd.read_csv(r'sales_data/Sales_September_2019.csv')\n",
    "oct_df = pd.read_csv(r'sales_data/Sales_October_2019.csv')\n",
    "nov_df = pd.read_csv(r'sales_data/Sales_November_2019.csv')\n",
    "dec_df = pd.read_csv(r'sales_data/Sales_December_2019.csv')"
   ]
  },
  {
   "cell_type": "markdown",
   "id": "3e87b9fa",
   "metadata": {},
   "source": [
    "## Joining, Exploring and Transforming the Data"
   ]
  },
  {
   "cell_type": "code",
   "execution_count": 19,
   "id": "058efbc7",
   "metadata": {},
   "outputs": [],
   "source": [
    "all_df = pd.concat([jan_df, feb_df, mar_df, apr_df, may_df, jun_df, jul_df, aug_df, sep_df, oct_df, nov_df, dec_df])"
   ]
  },
  {
   "cell_type": "code",
   "execution_count": 20,
   "id": "bb98e493",
   "metadata": {},
   "outputs": [
    {
     "data": {
      "text/plain": [
       "(186850, 6)"
      ]
     },
     "execution_count": 20,
     "metadata": {},
     "output_type": "execute_result"
    }
   ],
   "source": [
    "all_df.shape"
   ]
  },
  {
   "cell_type": "code",
   "execution_count": 21,
   "id": "4cfec668",
   "metadata": {},
   "outputs": [
    {
     "data": {
      "text/html": [
       "<div>\n",
       "<style scoped>\n",
       "    .dataframe tbody tr th:only-of-type {\n",
       "        vertical-align: middle;\n",
       "    }\n",
       "\n",
       "    .dataframe tbody tr th {\n",
       "        vertical-align: top;\n",
       "    }\n",
       "\n",
       "    .dataframe thead th {\n",
       "        text-align: right;\n",
       "    }\n",
       "</style>\n",
       "<table border=\"1\" class=\"dataframe\">\n",
       "  <thead>\n",
       "    <tr style=\"text-align: right;\">\n",
       "      <th></th>\n",
       "      <th>Order ID</th>\n",
       "      <th>Product</th>\n",
       "      <th>Quantity Ordered</th>\n",
       "      <th>Price Each</th>\n",
       "      <th>Order Date</th>\n",
       "      <th>Purchase Address</th>\n",
       "    </tr>\n",
       "  </thead>\n",
       "  <tbody>\n",
       "    <tr>\n",
       "      <th>0</th>\n",
       "      <td>141234</td>\n",
       "      <td>iPhone</td>\n",
       "      <td>1</td>\n",
       "      <td>700</td>\n",
       "      <td>01/22/19 21:25</td>\n",
       "      <td>944 Walnut St, Boston, MA 02215</td>\n",
       "    </tr>\n",
       "    <tr>\n",
       "      <th>1</th>\n",
       "      <td>141235</td>\n",
       "      <td>Lightning Charging Cable</td>\n",
       "      <td>1</td>\n",
       "      <td>14.95</td>\n",
       "      <td>01/28/19 14:15</td>\n",
       "      <td>185 Maple St, Portland, OR 97035</td>\n",
       "    </tr>\n",
       "    <tr>\n",
       "      <th>2</th>\n",
       "      <td>141236</td>\n",
       "      <td>Wired Headphones</td>\n",
       "      <td>2</td>\n",
       "      <td>11.99</td>\n",
       "      <td>01/17/19 13:33</td>\n",
       "      <td>538 Adams St, San Francisco, CA 94016</td>\n",
       "    </tr>\n",
       "    <tr>\n",
       "      <th>3</th>\n",
       "      <td>141237</td>\n",
       "      <td>27in FHD Monitor</td>\n",
       "      <td>1</td>\n",
       "      <td>149.99</td>\n",
       "      <td>01/05/19 20:33</td>\n",
       "      <td>738 10th St, Los Angeles, CA 90001</td>\n",
       "    </tr>\n",
       "    <tr>\n",
       "      <th>4</th>\n",
       "      <td>141238</td>\n",
       "      <td>Wired Headphones</td>\n",
       "      <td>1</td>\n",
       "      <td>11.99</td>\n",
       "      <td>01/25/19 11:59</td>\n",
       "      <td>387 10th St, Austin, TX 73301</td>\n",
       "    </tr>\n",
       "  </tbody>\n",
       "</table>\n",
       "</div>"
      ],
      "text/plain": [
       "  Order ID                   Product Quantity Ordered Price Each  \\\n",
       "0   141234                    iPhone                1        700   \n",
       "1   141235  Lightning Charging Cable                1      14.95   \n",
       "2   141236          Wired Headphones                2      11.99   \n",
       "3   141237          27in FHD Monitor                1     149.99   \n",
       "4   141238          Wired Headphones                1      11.99   \n",
       "\n",
       "       Order Date                       Purchase Address  \n",
       "0  01/22/19 21:25        944 Walnut St, Boston, MA 02215  \n",
       "1  01/28/19 14:15       185 Maple St, Portland, OR 97035  \n",
       "2  01/17/19 13:33  538 Adams St, San Francisco, CA 94016  \n",
       "3  01/05/19 20:33     738 10th St, Los Angeles, CA 90001  \n",
       "4  01/25/19 11:59          387 10th St, Austin, TX 73301  "
      ]
     },
     "execution_count": 21,
     "metadata": {},
     "output_type": "execute_result"
    }
   ],
   "source": [
    "all_df.head()"
   ]
  },
  {
   "cell_type": "code",
   "execution_count": 54,
   "id": "cde009fe",
   "metadata": {},
   "outputs": [
    {
     "data": {
      "text/html": [
       "<div>\n",
       "<style scoped>\n",
       "    .dataframe tbody tr th:only-of-type {\n",
       "        vertical-align: middle;\n",
       "    }\n",
       "\n",
       "    .dataframe tbody tr th {\n",
       "        vertical-align: top;\n",
       "    }\n",
       "\n",
       "    .dataframe thead th {\n",
       "        text-align: right;\n",
       "    }\n",
       "</style>\n",
       "<table border=\"1\" class=\"dataframe\">\n",
       "  <thead>\n",
       "    <tr style=\"text-align: right;\">\n",
       "      <th></th>\n",
       "      <th>Order ID</th>\n",
       "      <th>Product</th>\n",
       "      <th>Quantity Ordered</th>\n",
       "      <th>Price Each</th>\n",
       "      <th>Order Date</th>\n",
       "      <th>Purchase Address</th>\n",
       "      <th>Total Price</th>\n",
       "      <th>Order Month</th>\n",
       "    </tr>\n",
       "  </thead>\n",
       "  <tbody>\n",
       "    <tr>\n",
       "      <th>25112</th>\n",
       "      <td>319666</td>\n",
       "      <td>Lightning Charging Cable</td>\n",
       "      <td>1.0</td>\n",
       "      <td>14.95</td>\n",
       "      <td>2019-12-11 20:58:00</td>\n",
       "      <td>14 Madison St, San Francisco, CA 94016</td>\n",
       "      <td>14.95</td>\n",
       "      <td>12.0</td>\n",
       "    </tr>\n",
       "    <tr>\n",
       "      <th>25113</th>\n",
       "      <td>319667</td>\n",
       "      <td>AA Batteries (4-pack)</td>\n",
       "      <td>2.0</td>\n",
       "      <td>3.84</td>\n",
       "      <td>2019-12-01 12:01:00</td>\n",
       "      <td>549 Willow St, Los Angeles, CA 90001</td>\n",
       "      <td>7.68</td>\n",
       "      <td>12.0</td>\n",
       "    </tr>\n",
       "    <tr>\n",
       "      <th>25114</th>\n",
       "      <td>319668</td>\n",
       "      <td>Vareebadd Phone</td>\n",
       "      <td>1.0</td>\n",
       "      <td>400.00</td>\n",
       "      <td>2019-12-09 06:43:00</td>\n",
       "      <td>273 Wilson St, Seattle, WA 98101</td>\n",
       "      <td>400.00</td>\n",
       "      <td>12.0</td>\n",
       "    </tr>\n",
       "    <tr>\n",
       "      <th>25115</th>\n",
       "      <td>319669</td>\n",
       "      <td>Wired Headphones</td>\n",
       "      <td>1.0</td>\n",
       "      <td>11.99</td>\n",
       "      <td>2019-12-03 10:39:00</td>\n",
       "      <td>778 River St, Dallas, TX 75001</td>\n",
       "      <td>11.99</td>\n",
       "      <td>12.0</td>\n",
       "    </tr>\n",
       "    <tr>\n",
       "      <th>25116</th>\n",
       "      <td>319670</td>\n",
       "      <td>Bose SoundSport Headphones</td>\n",
       "      <td>1.0</td>\n",
       "      <td>99.99</td>\n",
       "      <td>2019-12-21 21:45:00</td>\n",
       "      <td>747 Chestnut St, Los Angeles, CA 90001</td>\n",
       "      <td>99.99</td>\n",
       "      <td>12.0</td>\n",
       "    </tr>\n",
       "  </tbody>\n",
       "</table>\n",
       "</div>"
      ],
      "text/plain": [
       "      Order ID                     Product  Quantity Ordered  Price Each  \\\n",
       "25112   319666    Lightning Charging Cable               1.0       14.95   \n",
       "25113   319667       AA Batteries (4-pack)               2.0        3.84   \n",
       "25114   319668             Vareebadd Phone               1.0      400.00   \n",
       "25115   319669            Wired Headphones               1.0       11.99   \n",
       "25116   319670  Bose SoundSport Headphones               1.0       99.99   \n",
       "\n",
       "               Order Date                        Purchase Address  \\\n",
       "25112 2019-12-11 20:58:00  14 Madison St, San Francisco, CA 94016   \n",
       "25113 2019-12-01 12:01:00    549 Willow St, Los Angeles, CA 90001   \n",
       "25114 2019-12-09 06:43:00        273 Wilson St, Seattle, WA 98101   \n",
       "25115 2019-12-03 10:39:00          778 River St, Dallas, TX 75001   \n",
       "25116 2019-12-21 21:45:00  747 Chestnut St, Los Angeles, CA 90001   \n",
       "\n",
       "       Total Price  Order Month  \n",
       "25112        14.95         12.0  \n",
       "25113         7.68         12.0  \n",
       "25114       400.00         12.0  \n",
       "25115        11.99         12.0  \n",
       "25116        99.99         12.0  "
      ]
     },
     "execution_count": 54,
     "metadata": {},
     "output_type": "execute_result"
    }
   ],
   "source": [
    "all_df.tail()"
   ]
  },
  {
   "cell_type": "code",
   "execution_count": 22,
   "id": "d2478906",
   "metadata": {},
   "outputs": [],
   "source": [
    "for index, row in all_df.iterrows():\n",
    "    try:\n",
    "        float(row['Price Each'])\n",
    "    except:\n",
    "        try:\n",
    "            all_df.drop(index, inplace=True)\n",
    "        except:\n",
    "            pass"
   ]
  },
  {
   "cell_type": "code",
   "execution_count": 23,
   "id": "f5c4038c",
   "metadata": {},
   "outputs": [
    {
     "data": {
      "text/plain": [
       "(183271, 6)"
      ]
     },
     "execution_count": 23,
     "metadata": {},
     "output_type": "execute_result"
    }
   ],
   "source": [
    "all_df.shape"
   ]
  },
  {
   "cell_type": "code",
   "execution_count": 25,
   "id": "72df8e36",
   "metadata": {},
   "outputs": [],
   "source": [
    "all_df['Price Each'] = pd.to_numeric(all_df['Price Each'])"
   ]
  },
  {
   "cell_type": "code",
   "execution_count": 26,
   "id": "3b2c8bb1",
   "metadata": {},
   "outputs": [],
   "source": [
    "all_df['Quantity Ordered'] = pd.to_numeric(all_df['Quantity Ordered'])"
   ]
  },
  {
   "cell_type": "code",
   "execution_count": 27,
   "id": "81e9abc5",
   "metadata": {},
   "outputs": [],
   "source": [
    "all_df['Total Price'] = all_df['Quantity Ordered'] * all_df['Price Each']"
   ]
  },
  {
   "cell_type": "code",
   "execution_count": 28,
   "id": "af4cd90e",
   "metadata": {},
   "outputs": [
    {
     "data": {
      "text/plain": [
       "(183271, 7)"
      ]
     },
     "execution_count": 28,
     "metadata": {},
     "output_type": "execute_result"
    }
   ],
   "source": [
    "all_df.shape"
   ]
  },
  {
   "cell_type": "code",
   "execution_count": 29,
   "id": "6049699c",
   "metadata": {},
   "outputs": [
    {
     "data": {
      "text/plain": [
       "33879779.769999996"
      ]
     },
     "execution_count": 29,
     "metadata": {},
     "output_type": "execute_result"
    }
   ],
   "source": [
    "all_df['Total Price'].sum()"
   ]
  },
  {
   "cell_type": "markdown",
   "id": "472b5521",
   "metadata": {},
   "source": [
    "## Finding\n",
    "\n",
    "The total sales for the year 2019 is $33_979_776.78  (Thirty three million, nine hundred and seventy nine thousand, seven hundred and seventy six dollar seventy eight cent)"
   ]
  },
  {
   "cell_type": "code",
   "execution_count": 31,
   "id": "30e80bf7",
   "metadata": {},
   "outputs": [],
   "source": [
    "all_df['Order Date'] = pd.to_datetime(all_df['Order Date'])"
   ]
  },
  {
   "cell_type": "code",
   "execution_count": null,
   "id": "b1590ce5",
   "metadata": {},
   "outputs": [],
   "source": []
  },
  {
   "cell_type": "markdown",
   "id": "8d8787d0",
   "metadata": {},
   "source": [
    "## Adding order month column"
   ]
  },
  {
   "cell_type": "code",
   "execution_count": 36,
   "id": "2e9956ad",
   "metadata": {},
   "outputs": [],
   "source": [
    "all_df['Order Month'] = all_df['Order Date'].dt.month"
   ]
  },
  {
   "cell_type": "code",
   "execution_count": 37,
   "id": "a1a2ee3e",
   "metadata": {},
   "outputs": [
    {
     "data": {
      "text/html": [
       "<div>\n",
       "<style scoped>\n",
       "    .dataframe tbody tr th:only-of-type {\n",
       "        vertical-align: middle;\n",
       "    }\n",
       "\n",
       "    .dataframe tbody tr th {\n",
       "        vertical-align: top;\n",
       "    }\n",
       "\n",
       "    .dataframe thead th {\n",
       "        text-align: right;\n",
       "    }\n",
       "</style>\n",
       "<table border=\"1\" class=\"dataframe\">\n",
       "  <thead>\n",
       "    <tr style=\"text-align: right;\">\n",
       "      <th></th>\n",
       "      <th>Order ID</th>\n",
       "      <th>Product</th>\n",
       "      <th>Quantity Ordered</th>\n",
       "      <th>Price Each</th>\n",
       "      <th>Order Date</th>\n",
       "      <th>Purchase Address</th>\n",
       "      <th>Total Price</th>\n",
       "      <th>Order Month</th>\n",
       "    </tr>\n",
       "  </thead>\n",
       "  <tbody>\n",
       "    <tr>\n",
       "      <th>0</th>\n",
       "      <td>141234</td>\n",
       "      <td>iPhone</td>\n",
       "      <td>1.0</td>\n",
       "      <td>700.00</td>\n",
       "      <td>2019-01-22 21:25:00</td>\n",
       "      <td>944 Walnut St, Boston, MA 02215</td>\n",
       "      <td>700.00</td>\n",
       "      <td>1.0</td>\n",
       "    </tr>\n",
       "    <tr>\n",
       "      <th>1</th>\n",
       "      <td>141235</td>\n",
       "      <td>Lightning Charging Cable</td>\n",
       "      <td>1.0</td>\n",
       "      <td>14.95</td>\n",
       "      <td>2019-01-28 14:15:00</td>\n",
       "      <td>185 Maple St, Portland, OR 97035</td>\n",
       "      <td>14.95</td>\n",
       "      <td>1.0</td>\n",
       "    </tr>\n",
       "    <tr>\n",
       "      <th>2</th>\n",
       "      <td>141236</td>\n",
       "      <td>Wired Headphones</td>\n",
       "      <td>2.0</td>\n",
       "      <td>11.99</td>\n",
       "      <td>2019-01-17 13:33:00</td>\n",
       "      <td>538 Adams St, San Francisco, CA 94016</td>\n",
       "      <td>23.98</td>\n",
       "      <td>1.0</td>\n",
       "    </tr>\n",
       "    <tr>\n",
       "      <th>3</th>\n",
       "      <td>141237</td>\n",
       "      <td>27in FHD Monitor</td>\n",
       "      <td>1.0</td>\n",
       "      <td>149.99</td>\n",
       "      <td>2019-01-05 20:33:00</td>\n",
       "      <td>738 10th St, Los Angeles, CA 90001</td>\n",
       "      <td>149.99</td>\n",
       "      <td>1.0</td>\n",
       "    </tr>\n",
       "    <tr>\n",
       "      <th>4</th>\n",
       "      <td>141238</td>\n",
       "      <td>Wired Headphones</td>\n",
       "      <td>1.0</td>\n",
       "      <td>11.99</td>\n",
       "      <td>2019-01-25 11:59:00</td>\n",
       "      <td>387 10th St, Austin, TX 73301</td>\n",
       "      <td>11.99</td>\n",
       "      <td>1.0</td>\n",
       "    </tr>\n",
       "  </tbody>\n",
       "</table>\n",
       "</div>"
      ],
      "text/plain": [
       "  Order ID                   Product  Quantity Ordered  Price Each  \\\n",
       "0   141234                    iPhone               1.0      700.00   \n",
       "1   141235  Lightning Charging Cable               1.0       14.95   \n",
       "2   141236          Wired Headphones               2.0       11.99   \n",
       "3   141237          27in FHD Monitor               1.0      149.99   \n",
       "4   141238          Wired Headphones               1.0       11.99   \n",
       "\n",
       "           Order Date                       Purchase Address  Total Price  \\\n",
       "0 2019-01-22 21:25:00        944 Walnut St, Boston, MA 02215       700.00   \n",
       "1 2019-01-28 14:15:00       185 Maple St, Portland, OR 97035        14.95   \n",
       "2 2019-01-17 13:33:00  538 Adams St, San Francisco, CA 94016        23.98   \n",
       "3 2019-01-05 20:33:00     738 10th St, Los Angeles, CA 90001       149.99   \n",
       "4 2019-01-25 11:59:00          387 10th St, Austin, TX 73301        11.99   \n",
       "\n",
       "   Order Month  \n",
       "0          1.0  \n",
       "1          1.0  \n",
       "2          1.0  \n",
       "3          1.0  \n",
       "4          1.0  "
      ]
     },
     "execution_count": 37,
     "metadata": {},
     "output_type": "execute_result"
    }
   ],
   "source": [
    "all_df.head()"
   ]
  },
  {
   "cell_type": "code",
   "execution_count": 38,
   "id": "890e342c",
   "metadata": {},
   "outputs": [
    {
     "data": {
      "text/html": [
       "<div>\n",
       "<style scoped>\n",
       "    .dataframe tbody tr th:only-of-type {\n",
       "        vertical-align: middle;\n",
       "    }\n",
       "\n",
       "    .dataframe tbody tr th {\n",
       "        vertical-align: top;\n",
       "    }\n",
       "\n",
       "    .dataframe thead th {\n",
       "        text-align: right;\n",
       "    }\n",
       "</style>\n",
       "<table border=\"1\" class=\"dataframe\">\n",
       "  <thead>\n",
       "    <tr style=\"text-align: right;\">\n",
       "      <th></th>\n",
       "      <th>Order ID</th>\n",
       "      <th>Product</th>\n",
       "      <th>Quantity Ordered</th>\n",
       "      <th>Price Each</th>\n",
       "      <th>Order Date</th>\n",
       "      <th>Purchase Address</th>\n",
       "      <th>Total Price</th>\n",
       "      <th>Order Month</th>\n",
       "    </tr>\n",
       "  </thead>\n",
       "  <tbody>\n",
       "    <tr>\n",
       "      <th>25112</th>\n",
       "      <td>319666</td>\n",
       "      <td>Lightning Charging Cable</td>\n",
       "      <td>1.0</td>\n",
       "      <td>14.95</td>\n",
       "      <td>2019-12-11 20:58:00</td>\n",
       "      <td>14 Madison St, San Francisco, CA 94016</td>\n",
       "      <td>14.95</td>\n",
       "      <td>12.0</td>\n",
       "    </tr>\n",
       "    <tr>\n",
       "      <th>25113</th>\n",
       "      <td>319667</td>\n",
       "      <td>AA Batteries (4-pack)</td>\n",
       "      <td>2.0</td>\n",
       "      <td>3.84</td>\n",
       "      <td>2019-12-01 12:01:00</td>\n",
       "      <td>549 Willow St, Los Angeles, CA 90001</td>\n",
       "      <td>7.68</td>\n",
       "      <td>12.0</td>\n",
       "    </tr>\n",
       "    <tr>\n",
       "      <th>25114</th>\n",
       "      <td>319668</td>\n",
       "      <td>Vareebadd Phone</td>\n",
       "      <td>1.0</td>\n",
       "      <td>400.00</td>\n",
       "      <td>2019-12-09 06:43:00</td>\n",
       "      <td>273 Wilson St, Seattle, WA 98101</td>\n",
       "      <td>400.00</td>\n",
       "      <td>12.0</td>\n",
       "    </tr>\n",
       "    <tr>\n",
       "      <th>25115</th>\n",
       "      <td>319669</td>\n",
       "      <td>Wired Headphones</td>\n",
       "      <td>1.0</td>\n",
       "      <td>11.99</td>\n",
       "      <td>2019-12-03 10:39:00</td>\n",
       "      <td>778 River St, Dallas, TX 75001</td>\n",
       "      <td>11.99</td>\n",
       "      <td>12.0</td>\n",
       "    </tr>\n",
       "    <tr>\n",
       "      <th>25116</th>\n",
       "      <td>319670</td>\n",
       "      <td>Bose SoundSport Headphones</td>\n",
       "      <td>1.0</td>\n",
       "      <td>99.99</td>\n",
       "      <td>2019-12-21 21:45:00</td>\n",
       "      <td>747 Chestnut St, Los Angeles, CA 90001</td>\n",
       "      <td>99.99</td>\n",
       "      <td>12.0</td>\n",
       "    </tr>\n",
       "  </tbody>\n",
       "</table>\n",
       "</div>"
      ],
      "text/plain": [
       "      Order ID                     Product  Quantity Ordered  Price Each  \\\n",
       "25112   319666    Lightning Charging Cable               1.0       14.95   \n",
       "25113   319667       AA Batteries (4-pack)               2.0        3.84   \n",
       "25114   319668             Vareebadd Phone               1.0      400.00   \n",
       "25115   319669            Wired Headphones               1.0       11.99   \n",
       "25116   319670  Bose SoundSport Headphones               1.0       99.99   \n",
       "\n",
       "               Order Date                        Purchase Address  \\\n",
       "25112 2019-12-11 20:58:00  14 Madison St, San Francisco, CA 94016   \n",
       "25113 2019-12-01 12:01:00    549 Willow St, Los Angeles, CA 90001   \n",
       "25114 2019-12-09 06:43:00        273 Wilson St, Seattle, WA 98101   \n",
       "25115 2019-12-03 10:39:00          778 River St, Dallas, TX 75001   \n",
       "25116 2019-12-21 21:45:00  747 Chestnut St, Los Angeles, CA 90001   \n",
       "\n",
       "       Total Price  Order Month  \n",
       "25112        14.95         12.0  \n",
       "25113         7.68         12.0  \n",
       "25114       400.00         12.0  \n",
       "25115        11.99         12.0  \n",
       "25116        99.99         12.0  "
      ]
     },
     "execution_count": 38,
     "metadata": {},
     "output_type": "execute_result"
    }
   ],
   "source": [
    "all_df.tail()"
   ]
  },
  {
   "cell_type": "markdown",
   "id": "455da7c4",
   "metadata": {},
   "source": [
    "## Find the total number of sales for each month"
   ]
  },
  {
   "cell_type": "code",
   "execution_count": 56,
   "id": "831ade3f",
   "metadata": {},
   "outputs": [
    {
     "data": {
      "text/plain": [
       "Order Month\n",
       "1.0     1786511.29\n",
       "2.0     2158127.48\n",
       "3.0     2755969.40\n",
       "4.0     3336376.42\n",
       "5.0     3101881.04\n",
       "6.0     2524464.99\n",
       "7.0     2587444.91\n",
       "8.0     2191698.31\n",
       "9.0     2050361.26\n",
       "10.0    3679254.16\n",
       "11.0    3149785.09\n",
       "12.0    4557905.42\n",
       "Name: Total Price, dtype: float64"
      ]
     },
     "execution_count": 56,
     "metadata": {},
     "output_type": "execute_result"
    }
   ],
   "source": [
    "monthly_sales = all_df.groupby('Order Month')['Total Price'].sum()\n",
    "monthly_sales"
   ]
  },
  {
   "cell_type": "markdown",
   "id": "04aff983",
   "metadata": {},
   "source": [
    "## Visualizing the monthly sales"
   ]
  },
  {
   "cell_type": "code",
   "execution_count": 47,
   "id": "1e733056",
   "metadata": {},
   "outputs": [
    {
     "data": {
      "image/png": "[encoded data removed]",
      "text/plain": [
       "<Figure size 640x480 with 1 Axes>"
      ]
     },
     "metadata": {},
     "output_type": "display_data"
    }
   ],
   "source": [
    "monthly_sales.plot(kind='bar', ylabel='Monthly Sales for 2019', xlabel='Month')\n",
    "plt.show()"
   ]
  },
  {
   "cell_type": "markdown",
   "id": "3833a696",
   "metadata": {},
   "source": [
    "## Finding and visualizing the number of transactions for each month"
   ]
  },
  {
   "cell_type": "code",
   "execution_count": 57,
   "id": "32b76b2c",
   "metadata": {},
   "outputs": [
    {
     "data": {
      "text/plain": [
       "Order Month\n",
       "1.0      9500\n",
       "2.0     11726\n",
       "3.0     14888\n",
       "4.0     17984\n",
       "5.0     16284\n",
       "6.0     13292\n",
       "7.0     14032\n",
       "8.0     11719\n",
       "9.0     11375\n",
       "10.0    19973\n",
       "11.0    17282\n",
       "12.0    24680\n",
       "Name: Total Price, dtype: int64"
      ]
     },
     "execution_count": 57,
     "metadata": {},
     "output_type": "execute_result"
    }
   ],
   "source": [
    "monthly_trac = all_df.groupby('Order Month')['Total Price'].count()\n",
    "monthly_trac"
   ]
  },
  {
   "cell_type": "code",
   "execution_count": 52,
   "id": "5c78e2e8",
   "metadata": {},
   "outputs": [
    {
     "data": {
      "image/png": "[encoded data removed]",
      "text/plain": [
       "<Figure size 640x480 with 1 Axes>"
      ]
     },
     "metadata": {},
     "output_type": "display_data"
    }
   ],
   "source": [
    "monthly_trac.plot(kind='bar', ylabel='No of Transactions', xlabel='Month')\n",
    "plt.show()"
   ]
  },
  {
   "cell_type": "markdown",
   "id": "a24d70f1",
   "metadata": {},
   "source": [
    "## Findings\n",
    "\n",
    "From the analysis, the peak sales occur in the month of December, October and April. Therefore the company ensure adequate stocking of products during these periond."
   ]
  },
  {
   "cell_type": "code",
   "execution_count": null,
   "id": "46a0fed9",
   "metadata": {},
   "outputs": [],
   "source": []
  }
 ],
 "metadata": {
  "kernelspec": {
   "display_name": "Python 3 (ipykernel)",
   "language": "python",
   "name": "python3"
  },
  "language_info": {
   "codemirror_mode": {
    "name": "ipython",
    "version": 3
   },
   "file_extension": ".py",
   "mimetype": "text/x-python",
   "name": "python",
   "nbconvert_exporter": "python",
   "pygments_lexer": "ipython3",
   "version": "3.10.9"
  }
 },
 "nbformat": 4,
 "nbformat_minor": 5
}
